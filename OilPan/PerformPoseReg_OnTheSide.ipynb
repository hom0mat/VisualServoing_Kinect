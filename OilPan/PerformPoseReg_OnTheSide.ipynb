{
 "cells": [
  {
   "cell_type": "code",
   "execution_count": 1,
   "id": "ef174a25",
   "metadata": {},
   "outputs": [
    {
     "name": "stdout",
     "output_type": "stream",
     "text": [
      "Jupyter environment detected. Enabling Open3D WebVisualizer.\n",
      "[Open3D INFO] WebRTC GUI backend enabled.\n",
      "[Open3D INFO] WebRTCWindowSystem: HTTP handshake server disabled.\n"
     ]
    }
   ],
   "source": [
    "import open3d as o3d\n",
    "import numpy as np\n",
    "import copy\n",
    "import time\n",
    "import os \n",
    "import sys\n",
    "import cv2\n",
    "import json"
   ]
  },
  {
   "cell_type": "code",
   "execution_count": 2,
   "id": "c0cdf3c0",
   "metadata": {},
   "outputs": [],
   "source": [
    "# Sources:\n",
    "#front_view_translated_path = \"CenteredPointClouds/oil_pan_front_pc_10000.ply\"\n",
    "#side_view_translated_path = \"CenteredPointClouds/oil_pan_sv_pc_10000.ply\" \n",
    "# Target:\n",
    "#full_model_translated_path = \"CenteredPointClouds/oil_pan_full_pc_10000.ply\" \n",
    "\n",
    "# Sources\n",
    "oil_pan_front_pc_path = \"PointClouds/oil_pan_front_pc_10000.ply\"\n",
    "oil_pan_sv_pc_path = \"PointClouds/oil_pan_sv_pc_10000.ply\"\n",
    "# Target\n",
    "oil_pan_full_pc_path = \"PointClouds/oil_pan_full_pc_10000.ply\"\n",
    "\n",
    "# Giving them their names:\n",
    "source_path=oil_pan_sv_pc_path\n",
    "target_path=oil_pan_full_pc_path"
   ]
  },
  {
   "cell_type": "markdown",
   "id": "dbd7ded4",
   "metadata": {},
   "source": [
    "Helper function for visualization"
   ]
  },
  {
   "cell_type": "code",
   "execution_count": 3,
   "id": "17f53894",
   "metadata": {},
   "outputs": [],
   "source": [
    "def draw_registration_result(source, target, transformation):\n",
    "  source_temp = copy.deepcopy(source)\n",
    "  target_temp = copy.deepcopy(target)\n",
    "  source_temp.paint_uniform_color([1, 0.706, 0])\n",
    "  target_temp.paint_uniform_color([0, 0.651, 0.929])\n",
    "  source_temp.transform(transformation)\n",
    "  o3d.visualization.draw_geometries([source_temp, target_temp])"
   ]
  },
  {
   "cell_type": "markdown",
   "id": "1e8a7e93",
   "metadata": {},
   "source": [
    "Global Registration"
   ]
  },
  {
   "cell_type": "code",
   "execution_count": 4,
   "id": "99037c96",
   "metadata": {},
   "outputs": [],
   "source": [
    "def preprocess_point_cloud(pcd, voxel_size):\n",
    "    print(\":: Downsample with a voxel size of %.3f.\" % voxel_size)\n",
    "    pcd_down = pcd.voxel_down_sample(voxel_size)\n",
    "\n",
    "    radius_normal = voxel_size * 2\n",
    "    print(\":: Estimate normal with  search radius %.3f.\" % radius_normal)\n",
    "    pcd_down.estimate_normals(\n",
    "        o3d.geometry.KDTreeSearchParamHybrid(radius=radius_normal, max_nn=30)\n",
    "    )\n",
    "    radius_feature = voxel_size * 5\n",
    "    print(\":: Compute FPFH feature with search radius %.3f.\" % radius_feature)\n",
    "    pcd_fpfh = o3d.pipelines.registration.compute_fpfh_feature(\n",
    "        pcd_down, \n",
    "        o3d.geometry.KDTreeSearchParamHybrid(radius=radius_feature, max_nn=100)\n",
    "    )\n",
    "    return pcd_down, pcd_fpfh"
   ]
  },
  {
   "cell_type": "code",
   "execution_count": 5,
   "id": "f4eb5c0a",
   "metadata": {},
   "outputs": [],
   "source": [
    "def prepare_dataset(voxel_size):\n",
    "    print(\":: Load two point clouds and disturb the initial pose.\")\n",
    "    source = o3d.io.read_point_cloud(source_path)\n",
    "    target = o3d.io.read_point_cloud(target_path)\n",
    "    trans_init = np.asarray([[0.0, 0.0, 1.0, 0.0], \n",
    "                             [1.0, 0.0, 0.0, 0.0], \n",
    "                             [0.0, 1.0, 0.0, 0.0], \n",
    "                             [0.0, 0.0, 0.0, 1.0]])\n",
    "    source.transform(trans_init)\n",
    "    o3d.io.write_point_cloud(\"transformed_source_front_side.ply\", source)\n",
    "    draw_registration_result(source, target, np.identity(4))\n",
    "\n",
    "    source_down, source_fpfh = preprocess_point_cloud(source, voxel_size)\n",
    "    target_down, target_fpfh = preprocess_point_cloud(target, voxel_size)\n",
    "    return source, target, source_down, target_down, source_fpfh, target_fpfh"
   ]
  },
  {
   "cell_type": "code",
   "execution_count": 6,
   "id": "63d8c6af",
   "metadata": {},
   "outputs": [
    {
     "name": "stdout",
     "output_type": "stream",
     "text": [
      ":: Load two point clouds and disturb the initial pose.\n",
      ":: Downsample with a voxel size of 1.000.\n",
      ":: Estimate normal with  search radius 2.000.\n",
      ":: Compute FPFH feature with search radius 5.000.\n",
      ":: Downsample with a voxel size of 1.000.\n",
      ":: Estimate normal with  search radius 2.000.\n",
      ":: Compute FPFH feature with search radius 5.000.\n"
     ]
    }
   ],
   "source": [
    "voxel_size = 1 # means 5cm for the original dataset... gotta check on mine\n",
    "\n",
    "\n",
    "source, target, source_down, target_down, source_fpfh, target_fpfh = prepare_dataset(voxel_size=voxel_size)"
   ]
  },
  {
   "cell_type": "markdown",
   "id": "6d7ff0f8",
   "metadata": {},
   "source": [
    "RANSAC"
   ]
  },
  {
   "cell_type": "code",
   "execution_count": 7,
   "id": "513df4ad",
   "metadata": {},
   "outputs": [],
   "source": [
    "def execute_global_registration(source_down, target_down, source_fpfh, target_fpfh, voxel_size):\n",
    "    distance_threshold = voxel_size * 1.5\n",
    "    print(\":: RANSAC registration on downsampled point clouds. \")\n",
    "    print(\"   Since the downsampling voxel sixe is %.3f, \" % voxel_size)\n",
    "    print(\"   we use a liberal distance threshold %.3f.\" % distance_threshold)\n",
    "    result = o3d.pipelines.registration.registration_ransac_based_on_feature_matching(\n",
    "        source_down, target_down, source_fpfh, target_fpfh, True, \n",
    "        distance_threshold, \n",
    "        o3d.pipelines.registration.TransformationEstimationPointToPoint(False), 3, \n",
    "        [\n",
    "            o3d.pipelines.registration.CorrespondenceCheckerBasedOnEdgeLength(\n",
    "                0.9\n",
    "            ),\n",
    "            o3d.pipelines.registration.CorrespondenceCheckerBasedOnDistance(\n",
    "                distance_threshold\n",
    "            )\n",
    "        ], o3d.pipelines.registration.RANSACConvergenceCriteria(100000, 0.999)\n",
    "    )\n",
    "    return result"
   ]
  },
  {
   "cell_type": "code",
   "execution_count": 8,
   "id": "166cb44f",
   "metadata": {},
   "outputs": [
    {
     "name": "stdout",
     "output_type": "stream",
     "text": [
      ":: RANSAC registration on downsampled point clouds. \n",
      "   Since the downsampling voxel sixe is 1.000, \n",
      "   we use a liberal distance threshold 1.500.\n",
      "RegistrationResult with fitness=1.000000e+00, inlier_rmse=3.426146e-01, and correspondence_set size of 1037\n",
      "Access transformation to get result.\n"
     ]
    }
   ],
   "source": [
    "result_ransac = execute_global_registration(source_down, target_down, \n",
    "                                            source_fpfh, target_fpfh, \n",
    "                                            voxel_size)\n",
    "print(result_ransac)\n",
    "draw_registration_result(source_down, target_down, result_ransac.transformation)"
   ]
  },
  {
   "cell_type": "markdown",
   "id": "77d2cd67",
   "metadata": {},
   "source": [
    "ICP"
   ]
  },
  {
   "cell_type": "code",
   "execution_count": 9,
   "id": "6921c676",
   "metadata": {},
   "outputs": [],
   "source": [
    "def refine_registration(source, target, source_fpfh, target_fpfh, voxel_size):\n",
    "    distance_threshold = voxel_size * 0.4\n",
    "    print(\":: Point-to-plane ICP registration is applied on original point\")\n",
    "    print(\"   clouds to refine the alignment. This time we use a strict\")\n",
    "    print(\"   distance threshold %.3f.\" % distance_threshold)\n",
    "    result = o3d.pipelines.registration.registration_icp(\n",
    "        source, target, distance_threshold, result_ransac.transformation, \n",
    "        o3d.pipelines.registration.TransformationEstimationPointToPlane()\n",
    "    )\n",
    "    return result"
   ]
  },
  {
   "cell_type": "code",
   "execution_count": 10,
   "id": "1dac767f",
   "metadata": {},
   "outputs": [],
   "source": [
    "def compute_normals(pcd, radius):\n",
    "    pcd.estimate_normals(\n",
    "        o3d.geometry.KDTreeSearchParamHybrid(radius=radius, max_nn=30)\n",
    "    )\n",
    "\n"
   ]
  },
  {
   "cell_type": "code",
   "execution_count": 11,
   "id": "3ecb0497",
   "metadata": {},
   "outputs": [],
   "source": [
    "radius_normal = voxel_size * 2\n",
    "compute_normals(source, radius_normal)\n",
    "compute_normals(target, radius_normal)"
   ]
  },
  {
   "cell_type": "code",
   "execution_count": 12,
   "id": "de0a263b",
   "metadata": {},
   "outputs": [
    {
     "name": "stdout",
     "output_type": "stream",
     "text": [
      ":: Point-to-plane ICP registration is applied on original point\n",
      "   clouds to refine the alignment. This time we use a strict\n",
      "   distance threshold 0.400.\n",
      "RegistrationResult with fitness=9.974000e-01, inlier_rmse=2.046595e-01, and correspondence_set size of 9974\n",
      "Access transformation to get result.\n"
     ]
    }
   ],
   "source": [
    "result_icp = refine_registration(source, target, source_fpfh, target_fpfh, voxel_size)\n",
    "print(result_icp)\n",
    "draw_registration_result(source, target, result_icp.transformation)"
   ]
  }
 ],
 "metadata": {
  "kernelspec": {
   "display_name": "o3d",
   "language": "python",
   "name": "python3"
  },
  "language_info": {
   "codemirror_mode": {
    "name": "ipython",
    "version": 3
   },
   "file_extension": ".py",
   "mimetype": "text/x-python",
   "name": "python",
   "nbconvert_exporter": "python",
   "pygments_lexer": "ipython3",
   "version": "3.10.13"
  }
 },
 "nbformat": 4,
 "nbformat_minor": 5
}
