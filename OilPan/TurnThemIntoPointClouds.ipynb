{
 "cells": [
  {
   "cell_type": "code",
   "execution_count": 1,
   "id": "0bbe5ab4",
   "metadata": {},
   "outputs": [
    {
     "name": "stdout",
     "output_type": "stream",
     "text": [
      "Jupyter environment detected. Enabling Open3D WebVisualizer.\n",
      "[Open3D INFO] WebRTC GUI backend enabled.\n",
      "[Open3D INFO] WebRTCWindowSystem: HTTP handshake server disabled.\n"
     ]
    }
   ],
   "source": [
    "import open3d as o3d"
   ]
  },
  {
   "cell_type": "code",
   "execution_count": 2,
   "id": "55db4c92",
   "metadata": {},
   "outputs": [],
   "source": [
    "oil_pan_full_path = \"Models\\OilPanBasic.stl\"\n",
    "oil_pan_front_path = \"Models\\OilPanFrontView.stl\"\n",
    "oil_pan_sv_path = \"Models\\OilPanSideView1.stl\""
   ]
  },
  {
   "cell_type": "code",
   "execution_count": 3,
   "id": "69b0ead1",
   "metadata": {},
   "outputs": [],
   "source": [
    "oil_pan_full = o3d.io.read_triangle_mesh(oil_pan_full_path)\n",
    "oil_pan_front = o3d.io.read_triangle_mesh(oil_pan_front_path)\n",
    "oil_pan_sv = o3d.io.read_triangle_mesh(oil_pan_sv_path)"
   ]
  },
  {
   "cell_type": "code",
   "execution_count": 4,
   "id": "d3581bef",
   "metadata": {},
   "outputs": [],
   "source": [
    "number_of_points = 10000 # You can adjust this number"
   ]
  },
  {
   "cell_type": "code",
   "execution_count": 5,
   "id": "02f23214",
   "metadata": {},
   "outputs": [],
   "source": [
    "oil_pan_full_pc = oil_pan_full.sample_points_poisson_disk(number_of_points)\n",
    "oil_pan_front_pc = oil_pan_front.sample_points_poisson_disk(number_of_points)\n",
    "oil_pan_sv_pc = oil_pan_sv.sample_points_poisson_disk(number_of_points)"
   ]
  },
  {
   "cell_type": "code",
   "execution_count": 6,
   "id": "85f6a8b6",
   "metadata": {},
   "outputs": [],
   "source": [
    "#o3d.visualization.draw_geometries([oil_pan_full_pc])"
   ]
  },
  {
   "cell_type": "code",
   "execution_count": 7,
   "id": "71c8e987",
   "metadata": {},
   "outputs": [],
   "source": [
    "#o3d.visualization.draw_geometries([oil_pan_front_pc])"
   ]
  },
  {
   "cell_type": "code",
   "execution_count": 8,
   "id": "b8f9292b",
   "metadata": {},
   "outputs": [],
   "source": [
    "#o3d.visualization.draw_geometries([oil_pan_sv_pc])"
   ]
  },
  {
   "cell_type": "code",
   "execution_count": 9,
   "id": "50d97cbf",
   "metadata": {},
   "outputs": [],
   "source": [
    "oil_pan_full_pc_path = \"PointClouds/oil_pan_full_pc_10000.ply\"\n",
    "oil_pan_front_pc_path = \"PointClouds/oil_pan_front_pc_10000.ply\"\n",
    "oil_pan_sv_pc_path = \"PointClouds/oil_pan_sv_pc_10000.ply\""
   ]
  },
  {
   "cell_type": "code",
   "execution_count": 10,
   "id": "05035a66",
   "metadata": {},
   "outputs": [
    {
     "data": {
      "text/plain": [
       "True"
      ]
     },
     "execution_count": 10,
     "metadata": {},
     "output_type": "execute_result"
    }
   ],
   "source": [
    "o3d.io.write_point_cloud(oil_pan_full_pc_path,oil_pan_full_pc)\n",
    "o3d.io.write_point_cloud(oil_pan_front_pc_path,oil_pan_front_pc)\n",
    "o3d.io.write_point_cloud(oil_pan_sv_pc_path,oil_pan_sv_pc)\n"
   ]
  }
 ],
 "metadata": {
  "kernelspec": {
   "display_name": "o3d",
   "language": "python",
   "name": "python3"
  },
  "language_info": {
   "codemirror_mode": {
    "name": "ipython",
    "version": 3
   },
   "file_extension": ".py",
   "mimetype": "text/x-python",
   "name": "python",
   "nbconvert_exporter": "python",
   "pygments_lexer": "ipython3",
   "version": "3.10.13"
  }
 },
 "nbformat": 4,
 "nbformat_minor": 5
}
