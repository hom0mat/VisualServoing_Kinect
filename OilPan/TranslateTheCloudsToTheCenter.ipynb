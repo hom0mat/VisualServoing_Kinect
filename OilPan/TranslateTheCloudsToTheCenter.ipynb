{
 "cells": [
  {
   "cell_type": "code",
   "execution_count": 1,
   "id": "6f95b0d2",
   "metadata": {},
   "outputs": [
    {
     "name": "stdout",
     "output_type": "stream",
     "text": [
      "Jupyter environment detected. Enabling Open3D WebVisualizer.\n",
      "[Open3D INFO] WebRTC GUI backend enabled.\n",
      "[Open3D INFO] WebRTCWindowSystem: HTTP handshake server disabled.\n"
     ]
    }
   ],
   "source": [
    "import open3d as o3d\n",
    "import numpy as np"
   ]
  },
  {
   "cell_type": "code",
   "execution_count": 2,
   "id": "54a8d50e",
   "metadata": {},
   "outputs": [],
   "source": [
    "oil_pan_full_pc_path = \"PointClouds/oil_pan_full_pc_10000.ply\"\n",
    "oil_pan_front_pc_path = \"PointClouds/oil_pan_front_pc_10000.ply\"\n",
    "oil_pan_sv_pc_path = \"PointClouds/oil_pan_sv_pc_10000.ply\""
   ]
  },
  {
   "cell_type": "code",
   "execution_count": 3,
   "id": "4084ba0f",
   "metadata": {},
   "outputs": [],
   "source": [
    "def redefine_the_centroid(pc_path,re_centered_path):\n",
    "    # Load original point cloud\n",
    "    pcd = o3d.io.read_point_cloud(pc_path)\n",
    "    # Compute centroid\n",
    "    centroid = np.mean(np.asarray(pcd.points), axis=0)\n",
    "    # Create point cloud for the centroid\n",
    "    centroid_pcd = o3d.geometry.PointCloud()\n",
    "    centroid_pcd.points = o3d.utility.Vector3dVector([centroid])\n",
    "    # Assign red color to the centroid\n",
    "    #centroid_color = [1, 0, 0]  # RGB for red\n",
    "    #centroid_pcd.colors = o3d.utility.Vector3dVector([centroid_color])\n",
    "    # Create a coordinate frame (axes) at the origin (can be adjusted to another position)\n",
    "    coord_frame = o3d.geometry.TriangleMesh.create_coordinate_frame(size=0.1, origin=[0, 0, 0])\n",
    "    # Visualize everything together\n",
    "    o3d.visualization.draw_geometries([pcd, centroid_pcd, coord_frame])\n",
    "    o3d.io.write_point_cloud(re_centered_path, pcd)"
   ]
  },
  {
   "cell_type": "code",
   "execution_count": 4,
   "id": "7bf511ce",
   "metadata": {},
   "outputs": [
    {
     "name": "stdout",
     "output_type": "stream",
     "text": [
      "Done!\n"
     ]
    }
   ],
   "source": [
    "full_model_translated_path = \"CenteredPointClouds/oil_pan_full_pc_10000.ply\"\n",
    "front_view_translated_path = \"CenteredPointClouds/oil_pan_front_pc_10000.ply\"\n",
    "side_view_translated_path = \"CenteredPointClouds/oil_pan_sv_pc_10000.ply\"\n",
    "\n",
    "original_pc_paths = [oil_pan_full_pc_path, oil_pan_front_pc_path, oil_pan_sv_pc_path]\n",
    "translated_pc_paths = [full_model_translated_path, front_view_translated_path, side_view_translated_path]\n",
    "\n",
    "for i in range(len(original_pc_paths)):\n",
    "    redefine_the_centroid(original_pc_paths[i], translated_pc_paths[i])\n",
    "print(\"Done!\")"
   ]
  }
 ],
 "metadata": {
  "kernelspec": {
   "display_name": "o3d",
   "language": "python",
   "name": "python3"
  },
  "language_info": {
   "codemirror_mode": {
    "name": "ipython",
    "version": 3
   },
   "file_extension": ".py",
   "mimetype": "text/x-python",
   "name": "python",
   "nbconvert_exporter": "python",
   "pygments_lexer": "ipython3",
   "version": "3.10.13"
  }
 },
 "nbformat": 4,
 "nbformat_minor": 5
}
